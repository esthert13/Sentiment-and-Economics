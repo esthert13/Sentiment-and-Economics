{
 "cells": [
  {
   "cell_type": "markdown",
   "metadata": {},
   "source": [
    "# COGS 108 - Data Checkpoint"
   ]
  },
  {
   "cell_type": "markdown",
   "metadata": {},
   "source": [
    "# Names\n",
    "\n",
    "- Jiaying Chen \n",
    "- Gaurav Nair\n",
    "- Esther Tae\n",
    "- Santiago Cardenas Rey\n",
    "- Qirui Zheng"
   ]
  },
  {
   "cell_type": "markdown",
   "metadata": {},
   "source": [
    "# Research Question"
   ]
  },
  {
   "cell_type": "markdown",
   "metadata": {},
   "source": [
    "How does the preference of the users on Epinion change over time on the products? Are their sentiments affected by the nation's economy at the time or smaller influences such as item price?"
   ]
  },
  {
   "cell_type": "markdown",
   "metadata": {},
   "source": [
    "## Background and Prior Work"
   ]
  },
  {
   "cell_type": "markdown",
   "metadata": {},
   "source": [
    "Amidst a society that spends a significant amount of their life online, everyone has scoured the internet for reviews of a product at least once. Products of furniture, makeup, skincare, and technology are just a few. And oftentimes, reading the descriptions of them mean almost nothing– they feel too robotic or professional for people to feel truthful, especially since the persons who wrote those descriptions are often aiming for profit rather than truth. As a result, user rating and comments are often the most important part of a product page for consumers. The situation of the economy at certain points in time may also be a factor that affects sentiments. Discovering if there is a correlation can reveal more about how people rate and review products and exactly what they pay attention to. \n",
    "\n",
    "Some prior work has already been done regarding general user comments and ratings. One study focused on Amazon, a website known for being a reliable online shopping source. Focusing on emotionality and product star rating, the paper tested the relationship between ratings and review length and text sentiments, although they also took into account the type of product featured.<a name=\"cite_ref-1\"></a>[<sup>1</sup>](#cite_note-1) The results revealed negative sentiments were more influential to the star ratings compared to positive sentiments of the same magnitude, as negative experiences were recollected more readily and given more weight<a name=\"cite_ref-1\"></a>[<sup>1</sup>](#cite_note-1), which is a revelation we will be looking out for in our project. Another study focused on the sentiment and the rating of users, as well as the adjectives used when they correlated. This was done to help future researchers find out if it could make customers more prone to write reviews if they let the customer choose between adjectives rather than write an entire review.<a name=\"cite_ref-2\"></a>[<sup>2</sup>](#cite_note-2) This study concluded a moderate correlation between user rating and reviews, which indicated a method to simplify online reviews and customers do not necessarily motivate the rating in their comment and many times actually write out objective lists (i.e. pros and cons).<a name=\"cite_ref-2\"></a>[<sup>2</sup>](#cite_note-2) It also revealed how longer comments tended to have a slightly stronger correlation<a name=\"cite_ref-2\"></a>[<sup>2</sup>](#cite_note-2), which was similar to the first study where they found the product star ratings of a review were negatively related to the length of a review.<a name=\"cite_ref-1\"></a>[<sup>1</sup>](#cite_note-1) Both studies also discussed the existence of negativity bias, as the longer comments tended to be negative instead of positive due to negative experiences being recalled more vividly due to the weight of them on the user. These are all explorations we will be taking into consideration for the project in regards to user comments and ratings. Although these works do not discuss the effect of time, we will expand upon them by studying it in our project.  \n",
    "\n",
    "\n",
    "1. <a name=\"cite_note-1\"></a> [^](#cite_ref-1) Ramachandran, R., Sudhir, S., & Unnithan, A. B. (2021). Exploring the relationship between emotionality and product star ratings in online reviews. IIMB Management Review. https://doi.org/10.1016/j.iimb.2021.12.002  \n",
    "2. <a name=\"cite_note-2\"></a> [^](#cite_ref-2) Sandström, E., & Josefsson, F. (n.d.). Exploring the Correlation Between Ratings, Adjectives and Sentiment on Customer Reviews. Retrieved February 7, 2025, from https://www.diva-portal.org/smash/get/diva2:1691596/FULLTEXT01.pdf "
   ]
  },
  {
   "cell_type": "markdown",
   "metadata": {},
   "source": [
    "# Hypothesis\n"
   ]
  },
  {
   "cell_type": "markdown",
   "metadata": {},
   "source": [
    "We predict that as time passes and prices adjust in response to economic factors, user sentiment (reflected in ratings and comments) will be closely tied to whether consumers perceive the price paid as fair. If users believe the cost aligns with the value received, they will respond with higher ratings and more positive sentiment; if not, their sentiment and ratings will be more negative. \n",
    "\n",
    "We also predict that the sentiment of the comments of the users are impacted by the economy itself. We will be using the Real GDP Growth as a measurement tool to measure inflation and economic impacts on consumer behavior."
   ]
  },
  {
   "cell_type": "markdown",
   "metadata": {},
   "source": [
    "# Data"
   ]
  },
  {
   "cell_type": "markdown",
   "metadata": {},
   "source": [
    "## Data overview\n",
    "- The ideal dataset to answer our research question would be a dataset with the time of user comments, costs of the items, and rating from users. The ideal number of observations would be at least ten thousand entries in order to have a proper representation to study. The variables would be: the star rating, time (used as time series), and description to draw sentiment generalizations. The data would be collected from the website data itself, and will be stored and organized in a CSV dataframe. \n",
    "- We are also using the real GDP data of the US as a possible factor that can influence the user sentiments to test our hypothesis about the correlation between user sentiment and economic factors, since we hypothesized that the Real GDP is positively correlated with consumer sentiment.\n",
    " \n",
    "- Dataset #1\n",
    "  - Dataset Name: `epinion`\n",
    "  - Link to the dataset: [Social Recommendation Data-Epinion](https://cseweb.ucsd.edu/~jmcauley/datasets.html#social_data)\n",
    "  - Number of observations: **200853** rows\n",
    "  - Number of variables: **6** \n",
    "  \n",
    "- Dataset #2 (if you have more than one!)\n",
    "  - Dataset Name: `real_gdp`\n",
    "  - Link to the dataset: [Real Gross Domestic Product (A191RL1Q225SBEA)](https://fred.stlouisfed.org/series/A191RL1Q225SBEA)\n",
    "  - Number of observations: **311** rows\n",
    "  - Number of variables: **2**\n",
    "\n",
    "### Epinion dataset \n",
    "| Variable  | Data Type | Description |\n",
    "| -------- | ------- | ------ |\n",
    "| `item`   | `string`| Specific item entry.  |\n",
    "| `user` | `string`| The epinions username that bought the item. |\n",
    "| `paid`  | `float64`| The amount the user paid. |\n",
    "| `time` | `float64`| The timestamp that the user published their rating for the item, in [unix timestamp](https://en.wikipedia.org/wiki/Unix_time) format. |\n",
    "| `stars`  | `float`| The star rating user gave on the item. |\n",
    "| `words` |  `string`| User comments on the item. |\n",
    "\n",
    "### GDP dataset\n",
    "- Real GDP measures the total value of all goods and services produced in the country, adjusted for inflation. It is typically reported on a seasonally adjusted annual rate (SAAR) basis and in chained 2017 dollars to reflect real economic growth.\n",
    "The data is published quarterly by the BEA and widely used for economic analysis.\n",
    "- GDP is measured in the currency of the country in question. \n",
    "\n",
    "| Variable  | Data Type | Description |\n",
    "| -------- | ------- | ------ |\n",
    "| `Observation-date`   | `string`| The date that the observation is recorded. This column has been renamed to `Quarter` after data cleaning, since observations are done quarterly.  |\n",
    "| `A191RL1Q225SBEA` | `string`| The change in GDP of the specified quarter. A negative value implies a contraction in economy, while a positive value implies growth compared to previous quarter. This column has been renamed to `Real_GDP` after data cleaning.|\n",
    "\n",
    "\n",
    "### How we intend to use them\n",
    "We will utilize various methods such as linear regressions or logarithmic regression to identify possible correlations between the change in GDP and user sentiment."
   ]
  },
  {
   "cell_type": "markdown",
   "metadata": {},
   "source": [
    "## Set up and imports "
   ]
  },
  {
   "cell_type": "code",
   "execution_count": 6,
   "metadata": {},
   "outputs": [],
   "source": [
    "# run !pip install transformers \n",
    "import pandas as pd\n",
    "import numpy as np\n",
    "import matplotlib.pyplot as plt\n",
    "import transformers\n",
    "from transformers import pipeline"
   ]
  },
  {
   "cell_type": "markdown",
   "metadata": {},
   "source": [
    "## Epinion Dataset"
   ]
  },
  {
   "cell_type": "code",
   "execution_count": 7,
   "metadata": {},
   "outputs": [
    {
     "data": {
      "text/html": [
       "<div>\n",
       "<style scoped>\n",
       "    .dataframe tbody tr th:only-of-type {\n",
       "        vertical-align: middle;\n",
       "    }\n",
       "\n",
       "    .dataframe tbody tr th {\n",
       "        vertical-align: top;\n",
       "    }\n",
       "\n",
       "    .dataframe thead th {\n",
       "        text-align: right;\n",
       "    }\n",
       "</style>\n",
       "<table border=\"1\" class=\"dataframe\">\n",
       "  <thead>\n",
       "    <tr style=\"text-align: right;\">\n",
       "      <th></th>\n",
       "      <th>item</th>\n",
       "      <th>user</th>\n",
       "      <th>paid</th>\n",
       "      <th>time</th>\n",
       "      <th>stars</th>\n",
       "      <th>words</th>\n",
       "    </tr>\n",
       "  </thead>\n",
       "  <tbody>\n",
       "    <tr>\n",
       "      <th>0</th>\n",
       "      <td>Minolta_QMS_PagePro_1250E_Printers</td>\n",
       "      <td>fgb59h</td>\n",
       "      <td>260.0</td>\n",
       "      <td>1.027296e+09</td>\n",
       "      <td>4.0</td>\n",
       "      <td>i got this printer from minolta as a warranty ...</td>\n",
       "    </tr>\n",
       "    <tr>\n",
       "      <th>1</th>\n",
       "      <td>Sony_VAIO_PCG_K45_P4_538_3_2GHz_1MB_L2_533MHz_...</td>\n",
       "      <td>bucho_ky</td>\n",
       "      <td>1800.0</td>\n",
       "      <td>1.201306e+09</td>\n",
       "      <td>2.0</td>\n",
       "      <td>although i love my vaio especially the gorgeou...</td>\n",
       "    </tr>\n",
       "    <tr>\n",
       "      <th>2</th>\n",
       "      <td>Sony_VAIO_PCG_K45_P4_538_3_2GHz_1MB_L2_533MHz_...</td>\n",
       "      <td>redp944</td>\n",
       "      <td>1000.0</td>\n",
       "      <td>1.118016e+09</td>\n",
       "      <td>4.0</td>\n",
       "      <td>this is my first laptop and i bought it about ...</td>\n",
       "    </tr>\n",
       "    <tr>\n",
       "      <th>3</th>\n",
       "      <td>pr-Durabrand_CD-85_Personal_CD_Player</td>\n",
       "      <td>spongebag7</td>\n",
       "      <td>20.0</td>\n",
       "      <td>1.149293e+09</td>\n",
       "      <td>4.0</td>\n",
       "      <td>just recently my sony dej001 walkman died on m...</td>\n",
       "    </tr>\n",
       "    <tr>\n",
       "      <th>4</th>\n",
       "      <td>pr-Sony_KV_36FS12__Standard_Televisions</td>\n",
       "      <td>pyros7</td>\n",
       "      <td>1199.0</td>\n",
       "      <td>1.012262e+09</td>\n",
       "      <td>5.0</td>\n",
       "      <td>well when i graduated from college it didnt ta...</td>\n",
       "    </tr>\n",
       "  </tbody>\n",
       "</table>\n",
       "</div>"
      ],
      "text/plain": [
       "                                                item        user    paid  \\\n",
       "0                 Minolta_QMS_PagePro_1250E_Printers      fgb59h   260.0   \n",
       "1  Sony_VAIO_PCG_K45_P4_538_3_2GHz_1MB_L2_533MHz_...    bucho_ky  1800.0   \n",
       "2  Sony_VAIO_PCG_K45_P4_538_3_2GHz_1MB_L2_533MHz_...     redp944  1000.0   \n",
       "3              pr-Durabrand_CD-85_Personal_CD_Player  spongebag7    20.0   \n",
       "4            pr-Sony_KV_36FS12__Standard_Televisions      pyros7  1199.0   \n",
       "\n",
       "           time  stars                                              words  \n",
       "0  1.027296e+09    4.0  i got this printer from minolta as a warranty ...  \n",
       "1  1.201306e+09    2.0  although i love my vaio especially the gorgeou...  \n",
       "2  1.118016e+09    4.0  this is my first laptop and i bought it about ...  \n",
       "3  1.149293e+09    4.0  just recently my sony dej001 walkman died on m...  \n",
       "4  1.012262e+09    5.0  well when i graduated from college it didnt ta...  "
      ]
     },
     "execution_count": 7,
     "metadata": {},
     "output_type": "execute_result"
    }
   ],
   "source": [
    "epinion = pd.read_csv('epinion.csv')\n",
    "epinion.head()\n"
   ]
  },
  {
   "cell_type": "markdown",
   "metadata": {},
   "source": [
    "### Data cleaning"
   ]
  },
  {
   "cell_type": "code",
   "execution_count": 8,
   "metadata": {},
   "outputs": [],
   "source": [
    "# Fill all NAN values in words to avoid errors  \n",
    "epinion['words'] = epinion['words'].fillna(\"\").astype(str)\n"
   ]
  },
  {
   "cell_type": "markdown",
   "metadata": {},
   "source": [
    "### Data processing: Sentimental analysis"
   ]
  },
  {
   "cell_type": "code",
   "execution_count": null,
   "metadata": {},
   "outputs": [],
   "source": [
    "# Load a pre-trained Hugging Face sentiment analysis pipeline\n",
    "sentiment_model = pipeline(\"sentiment-analysis\", model=\"nlptown/bert-base-multilingual-uncased-sentiment\", device=6)\n",
    "\n",
    "# Define the classification functionI\n",
    "def classify_sentiment(text):\n",
    "    if not text.strip():  # Handle empty strings\n",
    "        return \"neutral\"  # Or any default label\n",
    "    result = sentiment_model(text[:512])  # Truncate to 512 tokens\n",
    "    return result[0]['label']  # Extract the sentiment label\n",
    "\n",
    "# Apply the function to classify all reviews\n",
    "epinion['sentiment'] = epinion['words'].apply(classify_sentiment)\n",
    "\n",
    "# Display the results\n",
    "print(epinion[['words', 'sentiment']].head())\n",
    "\n",
    "epinion['sentiment'] = epinion['sentiment'].apply(lambda x: int(x[0]) if x != 'neutral' else 2.5)\n",
    "\n",
    "epinion.to_csv('data_with_sentiment.csv', index=False)\n",
    "epinion.head()"
   ]
  },
  {
   "cell_type": "markdown",
   "metadata": {},
   "source": [
    "The code above uses a sentimental analysis model to find the sentiment of the comments of the users. The code takes significant amount of time and requires GPU to run, thus we will import the `data_with_sentiment.csv` output and directly use it here. The actual ran code is attached in `qirui_sentiment_bert.ipynb`. "
   ]
  },
  {
   "cell_type": "code",
   "execution_count": 9,
   "metadata": {},
   "outputs": [
    {
     "data": {
      "text/html": [
       "<div>\n",
       "<style scoped>\n",
       "    .dataframe tbody tr th:only-of-type {\n",
       "        vertical-align: middle;\n",
       "    }\n",
       "\n",
       "    .dataframe tbody tr th {\n",
       "        vertical-align: top;\n",
       "    }\n",
       "\n",
       "    .dataframe thead th {\n",
       "        text-align: right;\n",
       "    }\n",
       "</style>\n",
       "<table border=\"1\" class=\"dataframe\">\n",
       "  <thead>\n",
       "    <tr style=\"text-align: right;\">\n",
       "      <th></th>\n",
       "      <th>item</th>\n",
       "      <th>user</th>\n",
       "      <th>paid</th>\n",
       "      <th>time</th>\n",
       "      <th>stars</th>\n",
       "      <th>words</th>\n",
       "      <th>sentiment</th>\n",
       "    </tr>\n",
       "  </thead>\n",
       "  <tbody>\n",
       "    <tr>\n",
       "      <th>0</th>\n",
       "      <td>Minolta_QMS_PagePro_1250E_Printers</td>\n",
       "      <td>fgb59h</td>\n",
       "      <td>260.0</td>\n",
       "      <td>1.027296e+09</td>\n",
       "      <td>4.0</td>\n",
       "      <td>i got this printer from minolta as a warranty ...</td>\n",
       "      <td>3.0</td>\n",
       "    </tr>\n",
       "    <tr>\n",
       "      <th>1</th>\n",
       "      <td>Sony_VAIO_PCG_K45_P4_538_3_2GHz_1MB_L2_533MHz_...</td>\n",
       "      <td>bucho_ky</td>\n",
       "      <td>1800.0</td>\n",
       "      <td>1.201306e+09</td>\n",
       "      <td>2.0</td>\n",
       "      <td>although i love my vaio especially the gorgeou...</td>\n",
       "      <td>3.0</td>\n",
       "    </tr>\n",
       "    <tr>\n",
       "      <th>2</th>\n",
       "      <td>Sony_VAIO_PCG_K45_P4_538_3_2GHz_1MB_L2_533MHz_...</td>\n",
       "      <td>redp944</td>\n",
       "      <td>1000.0</td>\n",
       "      <td>1.118016e+09</td>\n",
       "      <td>4.0</td>\n",
       "      <td>this is my first laptop and i bought it about ...</td>\n",
       "      <td>5.0</td>\n",
       "    </tr>\n",
       "    <tr>\n",
       "      <th>3</th>\n",
       "      <td>pr-Durabrand_CD-85_Personal_CD_Player</td>\n",
       "      <td>spongebag7</td>\n",
       "      <td>20.0</td>\n",
       "      <td>1.149293e+09</td>\n",
       "      <td>4.0</td>\n",
       "      <td>just recently my sony dej001 walkman died on m...</td>\n",
       "      <td>2.0</td>\n",
       "    </tr>\n",
       "    <tr>\n",
       "      <th>4</th>\n",
       "      <td>pr-Sony_KV_36FS12__Standard_Televisions</td>\n",
       "      <td>pyros7</td>\n",
       "      <td>1199.0</td>\n",
       "      <td>1.012262e+09</td>\n",
       "      <td>5.0</td>\n",
       "      <td>well when i graduated from college it didnt ta...</td>\n",
       "      <td>3.0</td>\n",
       "    </tr>\n",
       "  </tbody>\n",
       "</table>\n",
       "</div>"
      ],
      "text/plain": [
       "                                                item        user    paid  \\\n",
       "0                 Minolta_QMS_PagePro_1250E_Printers      fgb59h   260.0   \n",
       "1  Sony_VAIO_PCG_K45_P4_538_3_2GHz_1MB_L2_533MHz_...    bucho_ky  1800.0   \n",
       "2  Sony_VAIO_PCG_K45_P4_538_3_2GHz_1MB_L2_533MHz_...     redp944  1000.0   \n",
       "3              pr-Durabrand_CD-85_Personal_CD_Player  spongebag7    20.0   \n",
       "4            pr-Sony_KV_36FS12__Standard_Televisions      pyros7  1199.0   \n",
       "\n",
       "           time  stars                                              words  \\\n",
       "0  1.027296e+09    4.0  i got this printer from minolta as a warranty ...   \n",
       "1  1.201306e+09    2.0  although i love my vaio especially the gorgeou...   \n",
       "2  1.118016e+09    4.0  this is my first laptop and i bought it about ...   \n",
       "3  1.149293e+09    4.0  just recently my sony dej001 walkman died on m...   \n",
       "4  1.012262e+09    5.0  well when i graduated from college it didnt ta...   \n",
       "\n",
       "   sentiment  \n",
       "0        3.0  \n",
       "1        3.0  \n",
       "2        5.0  \n",
       "3        2.0  \n",
       "4        3.0  "
      ]
     },
     "execution_count": 9,
     "metadata": {},
     "output_type": "execute_result"
    }
   ],
   "source": [
    "epinion = pd.read_csv('data_with_sentiment.csv')\n",
    "epinion.head()"
   ]
  },
  {
   "cell_type": "code",
   "execution_count": 10,
   "metadata": {},
   "outputs": [
    {
     "name": "stdout",
     "output_type": "stream",
     "text": [
      "<class 'pandas.core.frame.DataFrame'>\n",
      "RangeIndex: 200853 entries, 0 to 200852\n",
      "Data columns (total 7 columns):\n",
      " #   Column     Non-Null Count   Dtype  \n",
      "---  ------     --------------   -----  \n",
      " 0   item       200853 non-null  object \n",
      " 1   user       200852 non-null  object \n",
      " 2   paid       189148 non-null  float64\n",
      " 3   time       189083 non-null  float64\n",
      " 4   stars      189083 non-null  float64\n",
      " 5   words      184106 non-null  object \n",
      " 6   sentiment  200853 non-null  float64\n",
      "dtypes: float64(4), object(3)\n",
      "memory usage: 10.7+ MB\n"
     ]
    }
   ],
   "source": [
    "epinion.info()"
   ]
  },
  {
   "cell_type": "code",
   "execution_count": 11,
   "metadata": {},
   "outputs": [],
   "source": [
    "# Drop all unecessary columsn and drop all entries with null values. \n",
    "epinion = epinion[['item', 'paid', 'time', 'stars', 'sentiment']].dropna()"
   ]
  },
  {
   "cell_type": "code",
   "execution_count": 12,
   "metadata": {},
   "outputs": [
    {
     "data": {
      "text/plain": [
       "0.9413999293015289"
      ]
     },
     "execution_count": 12,
     "metadata": {},
     "output_type": "execute_result"
    }
   ],
   "source": [
    "epinion.shape[0]/200853\n",
    "# 94% of the data is still intact. We are good to go! "
   ]
  },
  {
   "cell_type": "code",
   "execution_count": 13,
   "metadata": {},
   "outputs": [
    {
     "data": {
      "text/plain": [
       "count                           189083\n",
       "mean     2005-08-28 22:34:41.790536320\n",
       "min                2001-01-17 00:00:00\n",
       "25%                2003-04-09 00:00:00\n",
       "50%                2005-06-16 00:00:00\n",
       "75%                2007-09-18 00:00:00\n",
       "max                2013-11-15 00:00:00\n",
       "Name: time, dtype: object"
      ]
     },
     "execution_count": 13,
     "metadata": {},
     "output_type": "execute_result"
    }
   ],
   "source": [
    "#visualize date time to see the date makes sense \n",
    "epinion['time'] = pd.to_datetime(epinion['time'], unit='s')\n",
    "epinion['time'].describe()"
   ]
  },
  {
   "cell_type": "code",
   "execution_count": 14,
   "metadata": {},
   "outputs": [
    {
     "data": {
      "text/html": [
       "<div>\n",
       "<style scoped>\n",
       "    .dataframe tbody tr th:only-of-type {\n",
       "        vertical-align: middle;\n",
       "    }\n",
       "\n",
       "    .dataframe tbody tr th {\n",
       "        vertical-align: top;\n",
       "    }\n",
       "\n",
       "    .dataframe thead th {\n",
       "        text-align: right;\n",
       "    }\n",
       "</style>\n",
       "<table border=\"1\" class=\"dataframe\">\n",
       "  <thead>\n",
       "    <tr style=\"text-align: right;\">\n",
       "      <th></th>\n",
       "      <th>item</th>\n",
       "      <th>paid</th>\n",
       "      <th>stars</th>\n",
       "      <th>sentiment</th>\n",
       "      <th>date</th>\n",
       "    </tr>\n",
       "  </thead>\n",
       "  <tbody>\n",
       "    <tr>\n",
       "      <th>0</th>\n",
       "      <td>Minolta_QMS_PagePro_1250E_Printers</td>\n",
       "      <td>260.0</td>\n",
       "      <td>4.0</td>\n",
       "      <td>3.0</td>\n",
       "      <td>2002-07-01</td>\n",
       "    </tr>\n",
       "    <tr>\n",
       "      <th>1</th>\n",
       "      <td>Sony_VAIO_PCG_K45_P4_538_3_2GHz_1MB_L2_533MHz_...</td>\n",
       "      <td>1800.0</td>\n",
       "      <td>2.0</td>\n",
       "      <td>3.0</td>\n",
       "      <td>2008-01-01</td>\n",
       "    </tr>\n",
       "    <tr>\n",
       "      <th>2</th>\n",
       "      <td>Sony_VAIO_PCG_K45_P4_538_3_2GHz_1MB_L2_533MHz_...</td>\n",
       "      <td>1000.0</td>\n",
       "      <td>4.0</td>\n",
       "      <td>5.0</td>\n",
       "      <td>2005-04-01</td>\n",
       "    </tr>\n",
       "    <tr>\n",
       "      <th>3</th>\n",
       "      <td>pr-Durabrand_CD-85_Personal_CD_Player</td>\n",
       "      <td>20.0</td>\n",
       "      <td>4.0</td>\n",
       "      <td>2.0</td>\n",
       "      <td>2006-04-01</td>\n",
       "    </tr>\n",
       "    <tr>\n",
       "      <th>4</th>\n",
       "      <td>pr-Sony_KV_36FS12__Standard_Televisions</td>\n",
       "      <td>1199.0</td>\n",
       "      <td>5.0</td>\n",
       "      <td>3.0</td>\n",
       "      <td>2002-01-01</td>\n",
       "    </tr>\n",
       "  </tbody>\n",
       "</table>\n",
       "</div>"
      ],
      "text/plain": [
       "                                                item    paid  stars  \\\n",
       "0                 Minolta_QMS_PagePro_1250E_Printers   260.0    4.0   \n",
       "1  Sony_VAIO_PCG_K45_P4_538_3_2GHz_1MB_L2_533MHz_...  1800.0    2.0   \n",
       "2  Sony_VAIO_PCG_K45_P4_538_3_2GHz_1MB_L2_533MHz_...  1000.0    4.0   \n",
       "3              pr-Durabrand_CD-85_Personal_CD_Player    20.0    4.0   \n",
       "4            pr-Sony_KV_36FS12__Standard_Televisions  1199.0    5.0   \n",
       "\n",
       "   sentiment       date  \n",
       "0        3.0 2002-07-01  \n",
       "1        3.0 2008-01-01  \n",
       "2        5.0 2005-04-01  \n",
       "3        2.0 2006-04-01  \n",
       "4        3.0 2002-01-01  "
      ]
     },
     "execution_count": 14,
     "metadata": {},
     "output_type": "execute_result"
    }
   ],
   "source": [
    "epinion['date'] = epinion['time'].dt.to_period('Q').dt.start_time\n",
    "epinion = epinion.drop(columns=['time'])\n",
    "epinion.head()"
   ]
  },
  {
   "cell_type": "code",
   "execution_count": 15,
   "metadata": {},
   "outputs": [
    {
     "data": {
      "text/plain": [
       "<Axes: xlabel='sentiment'>"
      ]
     },
     "execution_count": 15,
     "metadata": {},
     "output_type": "execute_result"
    },
    {
     "data": {
      "image/png": "[encoded data removed]",
      "text/plain": [
       "<Figure size 640x480 with 1 Axes>"
      ]
     },
     "metadata": {},
     "output_type": "display_data"
    }
   ],
   "source": [
    "epinion['sentiment'].value_counts().plot(kind='bar')"
   ]
  },
  {
   "cell_type": "markdown",
   "metadata": {},
   "source": []
  },
  {
   "cell_type": "markdown",
   "metadata": {},
   "source": [
    "## Real GDP Dataset"
   ]
  },
  {
   "cell_type": "code",
   "execution_count": 16,
   "metadata": {},
   "outputs": [
    {
     "data": {
      "text/html": [
       "<div>\n",
       "<style scoped>\n",
       "    .dataframe tbody tr th:only-of-type {\n",
       "        vertical-align: middle;\n",
       "    }\n",
       "\n",
       "    .dataframe tbody tr th {\n",
       "        vertical-align: top;\n",
       "    }\n",
       "\n",
       "    .dataframe thead th {\n",
       "        text-align: right;\n",
       "    }\n",
       "</style>\n",
       "<table border=\"1\" class=\"dataframe\">\n",
       "  <thead>\n",
       "    <tr style=\"text-align: right;\">\n",
       "      <th></th>\n",
       "      <th>Quarter</th>\n",
       "      <th>Real_GDP</th>\n",
       "    </tr>\n",
       "  </thead>\n",
       "  <tbody>\n",
       "    <tr>\n",
       "      <th>0</th>\n",
       "      <td>1947-04-01</td>\n",
       "      <td>-1.0</td>\n",
       "    </tr>\n",
       "    <tr>\n",
       "      <th>1</th>\n",
       "      <td>1947-07-01</td>\n",
       "      <td>-0.8</td>\n",
       "    </tr>\n",
       "    <tr>\n",
       "      <th>2</th>\n",
       "      <td>1947-10-01</td>\n",
       "      <td>6.4</td>\n",
       "    </tr>\n",
       "    <tr>\n",
       "      <th>3</th>\n",
       "      <td>1948-01-01</td>\n",
       "      <td>6.2</td>\n",
       "    </tr>\n",
       "    <tr>\n",
       "      <th>4</th>\n",
       "      <td>1948-04-01</td>\n",
       "      <td>6.8</td>\n",
       "    </tr>\n",
       "    <tr>\n",
       "      <th>...</th>\n",
       "      <td>...</td>\n",
       "      <td>...</td>\n",
       "    </tr>\n",
       "    <tr>\n",
       "      <th>306</th>\n",
       "      <td>2023-10-01</td>\n",
       "      <td>3.2</td>\n",
       "    </tr>\n",
       "    <tr>\n",
       "      <th>307</th>\n",
       "      <td>2024-01-01</td>\n",
       "      <td>1.6</td>\n",
       "    </tr>\n",
       "    <tr>\n",
       "      <th>308</th>\n",
       "      <td>2024-04-01</td>\n",
       "      <td>3.0</td>\n",
       "    </tr>\n",
       "    <tr>\n",
       "      <th>309</th>\n",
       "      <td>2024-07-01</td>\n",
       "      <td>3.1</td>\n",
       "    </tr>\n",
       "    <tr>\n",
       "      <th>310</th>\n",
       "      <td>2024-10-01</td>\n",
       "      <td>2.3</td>\n",
       "    </tr>\n",
       "  </tbody>\n",
       "</table>\n",
       "<p>311 rows × 2 columns</p>\n",
       "</div>"
      ],
      "text/plain": [
       "        Quarter  Real_GDP\n",
       "0    1947-04-01      -1.0\n",
       "1    1947-07-01      -0.8\n",
       "2    1947-10-01       6.4\n",
       "3    1948-01-01       6.2\n",
       "4    1948-04-01       6.8\n",
       "..          ...       ...\n",
       "306  2023-10-01       3.2\n",
       "307  2024-01-01       1.6\n",
       "308  2024-04-01       3.0\n",
       "309  2024-07-01       3.1\n",
       "310  2024-10-01       2.3\n",
       "\n",
       "[311 rows x 2 columns]"
      ]
     },
     "execution_count": 16,
     "metadata": {},
     "output_type": "execute_result"
    }
   ],
   "source": [
    "real_gdp =  pd.read_csv('A191RL1Q225SBEA.csv')\n",
    "real_gdp = real_gdp.rename(columns={'observation_date': 'Quarter', 'A191RL1Q225SBEA': 'Real_GDP'})\n",
    "real_gdp"
   ]
  },
  {
   "cell_type": "code",
   "execution_count": 17,
   "metadata": {},
   "outputs": [
    {
     "name": "stdout",
     "output_type": "stream",
     "text": [
      "<class 'pandas.core.frame.DataFrame'>\n",
      "RangeIndex: 311 entries, 0 to 310\n",
      "Data columns (total 2 columns):\n",
      " #   Column    Non-Null Count  Dtype  \n",
      "---  ------    --------------  -----  \n",
      " 0   Quarter   311 non-null    object \n",
      " 1   Real_GDP  311 non-null    float64\n",
      "dtypes: float64(1), object(1)\n",
      "memory usage: 5.0+ KB\n"
     ]
    }
   ],
   "source": [
    "real_gdp.info()"
   ]
  },
  {
   "cell_type": "code",
   "execution_count": 18,
   "metadata": {},
   "outputs": [
    {
     "data": {
      "image/png": "[encoded data removed]",
      "text/plain": [
       "<Figure size 1600x400 with 1 Axes>"
      ]
     },
     "metadata": {},
     "output_type": "display_data"
    }
   ],
   "source": [
    "real_gdp.plot(kind='line', x='Quarter', y='Real_GDP', figsize=(16, 4))  # Set figsize here\n",
    "plt.xlabel('Quarter')\n",
    "plt.ylabel('Real GDP Percentage Change')\n",
    "plt.title('Real GDP Percentage Change Over Time')\n",
    "plt.show()"
   ]
  },
  {
   "cell_type": "markdown",
   "metadata": {},
   "source": [
    "# Ethics & Privacy"
   ]
  },
  {
   "cell_type": "markdown",
   "metadata": {},
   "source": [
    "Our team consulted [Deon's Ethics Checklist](http://deon.drivendata.org/#data-science-ethics-checklist) as suggested by the proposal guide. Here are some questions we have looked into: \n",
    "\n",
    "- Are there any biases/privacy/terms of use issues with the data you proposed?\n",
    "\n",
    "There may be privacy concerns with Personally Identifiable Information, since the data contains usernames which could potentially identify individuals. It is crucial to consider whether the data has been properly anonymized to prevent re-identification.\n",
    "\n",
    "\n",
    "- Are there potential biases in your dataset(s), in terms of who it composes, and how it was collected, that may be problematic in terms of it allowing for equitable analysis? (For example, does your data exclude particular populations, or is it likely to reflect particular human biases in a way that could be a problem?)\n",
    "\n",
    "The dataset may have selection bias where certain user demographics may be overrepresented, such as those who are more likely to leave reviews (e.g., dissatisfied customers AND very satisfied customers are more likely to leave reviews). There may also be a small amount of response bias, for the users may leave reviews due to personal experiences unrelated to the product itself. \n",
    "\n",
    "\n",
    "- How will you set out to detect these specific biases before, during, and after/when communicating your analysis?\n",
    "\n",
    "Exploratory data analysis is a good way to detect the biases. When analyzing data, we can see the temporal trend and how extreme the ratings are to make inferences about why the users leave their reviews. In terms of how the data was collected, we know it is real, authentic data provided by the epinion website itself.  \n",
    "\n",
    "\n",
    "- How will you handle issues you identified?\n",
    "\n",
    "To handle the issue of anonymity, we will take away the username column when doing our analysis since it provides no useful information. To handle bias, we will check and see whether or not the ratings really are as extreme as we hypothesized it to be, and we can make inferences carefully and accordingly. We will make reasonable data visualizations to understand the data more, and we will use statistical methods to see if correlations exist in our data. "
   ]
  },
  {
   "cell_type": "markdown",
   "metadata": {},
   "source": [
    "# Team Expectations "
   ]
  },
  {
   "cell_type": "markdown",
   "metadata": {},
   "source": [
    "* Have access to the master document with team meetings and base information to keep track of everything. \n",
    "* Attend the meeting at the set time, or inform the group if you cannot make it.\n",
    "* If anyone has questions, teammates will respond and answer. \n",
    "* Finish discussed tasks on time, usually by the next meeting date.\n",
    "* Allow good and kind communication."
   ]
  },
  {
   "cell_type": "markdown",
   "metadata": {},
   "source": [
    "# Project Timeline Proposal"
   ]
  },
  {
   "cell_type": "markdown",
   "metadata": {},
   "source": [
    "| Meeting Date  | Meeting Time| Completed Before Meeting  | Discuss at Meeting |\n",
    "|---|---|---|---|\n",
    "| 1/17  |  5 PM | Download data set, review project instructions and previous projects  | Decide on previous project to review and discuss data set |\n",
    "| 1/24  |  5 PM | Explore data set further  | Review previous project form (Santiago), decide on research question |\n",
    "| 1/31  |  5 PM | Read the COGS 108 Team Policies and the Project Proposal documents, previous project review completed  | Work on the project proposal and delegate specific sections | \n",
    "| 2/07  |  5 PM | Finalize individual tasks and complete the project proposal | Review the project proposal and ensure everything is up to quality and approved by everyone | \n",
    "| 2/14  | 5 PM  | Edit, finalize, and submit proposal | Discuss data and EDA  |\n",
    "| 2/21  | 5 PM  | Finalized Data checkpoint; discussed responsibility for EDA | Prepare EDA document for next meeting  |\n",
    "| 2/28  | 5 PM  | Finalize wrangling/EDA; Begin Analysis | Discuss/edit Analysis; Complete project check-in |\n",
    "| 3/07  | 5 PM  | Complete analysis; Draft results/conclusion/discussion | Discuss/edit full project |\n",
    "| 3/19  | Before 11:59 PM  | Review project and ensure everything is up to quality | Turn in Final Project & Group Project Surveys |"
   ]
  },
  {
   "cell_type": "markdown",
   "metadata": {},
   "source": []
  }
 ],
 "metadata": {
  "kernelspec": {
   "display_name": "dsc80",
   "language": "python",
   "name": "python3"
  },
  "language_info": {
   "codemirror_mode": {
    "name": "ipython",
    "version": 3
   },
   "file_extension": ".py",
   "mimetype": "text/x-python",
   "name": "python",
   "nbconvert_exporter": "python",
   "pygments_lexer": "ipython3",
   "version": "3.12.6"
  }
 },
 "nbformat": 4,
 "nbformat_minor": 2
}
