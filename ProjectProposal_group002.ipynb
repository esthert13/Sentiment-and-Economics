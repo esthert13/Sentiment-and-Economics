{
 "cells": [
  {
   "cell_type": "markdown",
   "metadata": {},
   "source": [
    "# COGS 108 - Project Proposal"
   ]
  },
  {
   "cell_type": "markdown",
   "metadata": {},
   "source": [
    "# Names\n",
    "\n",
    "- Jiaying Chen \n",
    "- Gaurav Nair\n",
    "- Esther Tae\n",
    "- Santiago Cardenas Rey\n",
    "- Qirui Zheng"
   ]
  },
  {
   "cell_type": "markdown",
   "metadata": {},
   "source": [
    "# Research Question"
   ]
  },
  {
   "cell_type": "markdown",
   "metadata": {},
   "source": [
    "How does the preference of the users on Epinion change over time on the products? Are their sentiments affected by the nation's economy at the time or smaller influences such as item price?"
   ]
  },
  {
   "cell_type": "markdown",
   "metadata": {},
   "source": [
    "## Background and Prior Work"
   ]
  },
  {
   "cell_type": "markdown",
   "metadata": {},
   "source": [
    "Amidst a society that spends a significant amount of their life online, everyone has scoured the internet for reviews of a product at least once. Products of furniture, makeup, skincare, and technology are just a few. And oftentimes, reading the descriptions of them mean almost nothing– they feel too robotic or professional for people to feel truthful, especially since the persons who wrote those descriptions are often aiming for profit rather than truth. As a result, user rating and comments are often the most important part of a product page for consumers. The situation of the economy at certain points in time may also be a factor that affects sentiments. Discovering if there is a correlation can reveal more about how people rate and review products and exactly what they pay attention to. \n",
    "\n",
    "Some prior work has already been done regarding general user comments and ratings. One study focused on Amazon, a website known for being a reliable online shopping source. Focusing on emotionality and product star rating, the paper tested the relationship between ratings and review length and text sentiments, although they also took into account the type of product featured.<a name=\"cite_ref-1\"></a>[<sup>1</sup>](#cite_note-1) The results revealed negative sentiments were more influential to the star ratings compared to positive sentiments of the same magnitude, as negative experiences were recollected more readily and given more weight<a name=\"cite_ref-1\"></a>[<sup>1</sup>](#cite_note-1), which is a revelation we will be looking out for in our project. Another study focused on the sentiment and the rating of users, as well as the adjectives used when they correlated. This was done to help future researchers find out if it could make customers more prone to write reviews if they let the customer choose between adjectives rather than write an entire review.<a name=\"cite_ref-2\"></a>[<sup>2</sup>](#cite_note-2) This study concluded a moderate correlation between user rating and reviews, which indicated a method to simplify online reviews and customers do not necessarily motivate the rating in their comment and many times actually write out objective lists (i.e. pros and cons).<a name=\"cite_ref-2\"></a>[<sup>2</sup>](#cite_note-2) It also revealed how longer comments tended to have a slightly stronger correlation<a name=\"cite_ref-2\"></a>[<sup>2</sup>](#cite_note-2), which was similar to the first study where they found the product star ratings of a review were negatively related to the length of a review.<a name=\"cite_ref-1\"></a>[<sup>1</sup>](#cite_note-1) Both studies also discussed the existence of negativity bias, as the longer comments tended to be negative instead of positive due to negative experiences being recalled more vividly due to the weight of them on the user. These are all explorations we will be taking into consideration for the project in regards to user comments and ratings. Although these works do not discuss the effect of time, we will expand upon them by studying it in our project.  \n",
    "\n",
    "\n",
    "1. <a name=\"cite_note-1\"></a> [^](#cite_ref-1) Ramachandran, R., Sudhir, S., & Unnithan, A. B. (2021). Exploring the relationship between emotionality and product star ratings in online reviews. IIMB Management Review. https://doi.org/10.1016/j.iimb.2021.12.002  \n",
    "2. <a name=\"cite_note-2\"></a> [^](#cite_ref-2) Sandström, E., & Josefsson, F. (n.d.). Exploring the Correlation Between Ratings, Adjectives and Sentiment on Customer Reviews. Retrieved February 7, 2025, from https://www.diva-portal.org/smash/get/diva2:1691596/FULLTEXT01.pdf "
   ]
  },
  {
   "cell_type": "markdown",
   "metadata": {},
   "source": [
    "# Hypothesis\n"
   ]
  },
  {
   "cell_type": "markdown",
   "metadata": {},
   "source": [
    "We predict that as time passes and prices adjust in response to economic factors, user sentiment (reflected in ratings and comments) will be closely tied to whether consumers perceive the price paid as fair. If users believe the cost aligns with the value received, they will respond with higher ratings and more positive sentiment; if not, their sentiment and ratings will be more negative. \n",
    "\n",
    "We also predict that the sentiment of the comments of the users are impacted by the economy itself. We will be using the Real GDP Growth as a measurement tool to measure inflation and economic impacts on consumer behavior."
   ]
  },
  {
   "cell_type": "markdown",
   "metadata": {},
   "source": [
    "# Data"
   ]
  },
  {
   "cell_type": "markdown",
   "metadata": {},
   "source": [
    "The ideal dataset to answer our research question would be a dataset with the time of user comments, costs of the items, and rating from users. The ideal number of observations would be at least ten thousand entries in order to have a proper representation to study. The variables would be: the star rating, time (used as time series), and description to draw sentiment generalizations. The data would be collected from the website data itself, and will be stored and organized in a CSV dataframe."
   ]
  },
  {
   "cell_type": "markdown",
   "metadata": {},
   "source": [
    "# Ethics & Privacy"
   ]
  },
  {
   "cell_type": "markdown",
   "metadata": {},
   "source": [
    "Our team consulted [Deon's Ethics Checklist](http://deon.drivendata.org/#data-science-ethics-checklist) as suggested by the proposal guide. Here are some questions we have looked into: \n",
    "\n",
    "- Are there any biases/privacy/terms of use issues with the data you proposed?\n",
    "\n",
    "There may be privacy concerns with Personally Identifiable Information, since the data contains usernames which could potentially identify individuals. It is crucial to consider whether the data has been properly anonymized to prevent re-identification.\n",
    "\n",
    "\n",
    "- Are there potential biases in your dataset(s), in terms of who it composes, and how it was collected, that may be problematic in terms of it allowing for equitable analysis? (For example, does your data exclude particular populations, or is it likely to reflect particular human biases in a way that could be a problem?)\n",
    "\n",
    "The dataset may have selection bias where certain user demographics may be overrepresented, such as those who are more likely to leave reviews (e.g., dissatisfied customers AND very satisfied customers are more likely to leave reviews). There may also be a small amount of response bias, for the users may leave reviews due to personal experiences unrelated to the product itself. \n",
    "\n",
    "\n",
    "- How will you set out to detect these specific biases before, during, and after/when communicating your analysis?\n",
    "\n",
    "Exploratory data analysis is a good way to detect the biases. When analyzing data, we can see the temporal trend and how extreme the ratings are to make inferences about why the users leave their reviews. In terms of how the data was collected, we know it is real, authentic data provided by the epinion website itself.  \n",
    "\n",
    "\n",
    "- How will you handle issues you identified?\n",
    "\n",
    "To handle the issue of anonymity, we will take away the username column when doing our analysis since it provides no useful information. To handle bias, we will check and see whether or not the ratings really are as extreme as we hypothesized it to be, and we can make inferences carefully and accordingly. We will make reasonable data visualizations to understand the data more, and we will use statistical methods to see if correlations exist in our data. "
   ]
  },
  {
   "cell_type": "markdown",
   "metadata": {},
   "source": [
    "# Team Expectations "
   ]
  },
  {
   "cell_type": "markdown",
   "metadata": {},
   "source": [
    "* Have access to the master document with team meetings and base information to keep track of everything. \n",
    "* Attend the meeting at the set time, or inform the group if you cannot make it.\n",
    "* If anyone has questions, teammates will respond and answer. \n",
    "* Finish discussed tasks on time, usually by the next meeting date.\n",
    "* Allow good and kind communication."
   ]
  },
  {
   "cell_type": "markdown",
   "metadata": {},
   "source": [
    "# Project Timeline Proposal"
   ]
  },
  {
   "cell_type": "markdown",
   "metadata": {},
   "source": [
    "| Meeting Date  | Meeting Time| Completed Before Meeting  | Discuss at Meeting |\n",
    "|---|---|---|---|\n",
    "| 1/17  |  5 PM | Download data set, review project instructions and previous projects  | Decide on previous project to review and discuss data set |\n",
    "| 1/24  |  5 PM | Explore data set further  | Review previous project form (Santiago), decide on research question |\n",
    "| 1/31  |  5 PM | Read the COGS 108 Team Policies and the Project Proposal documents, previous project review completed  | Work on the project proposal and delegate specific sections | \n",
    "| 2/07  |  5 PM | Finalize individual tasks and complete the project proposal | Review the project proposal and ensure everything is up to quality and approved by everyone | \n",
    "| 2/14  | 5 PM  | Edit, finalize, and submit proposal | Discuss data and EDA  |\n",
    "| 2/21  | 5 PM  | Import & Wrangle Data; EDA | Review/Edit wrangling/EDA; Discuss Analysis Plan   |\n",
    "| 2/28  | 5 PM  | Finalize wrangling/EDA; Begin Analysis | Discuss/edit Analysis; Complete project check-in |\n",
    "| 3/07  | 5 PM  | Complete analysis; Draft results/conclusion/discussion | Discuss/edit full project |\n",
    "| 3/19  | Before 11:59 PM  | Review project and ensure everything is up to quality | Turn in Final Project & Group Project Surveys |"
   ]
  },
  {
   "cell_type": "markdown",
   "metadata": {},
   "source": []
  }
 ],
 "metadata": {
  "kernelspec": {
   "display_name": "Python 3 (ipykernel)",
   "language": "python",
   "name": "python3"
  },
  "language_info": {
   "codemirror_mode": {
    "name": "ipython",
    "version": 3
   },
   "file_extension": ".py",
   "mimetype": "text/x-python",
   "name": "python",
   "nbconvert_exporter": "python",
   "pygments_lexer": "ipython3",
   "version": "3.9.7"
  }
 },
 "nbformat": 4,
 "nbformat_minor": 2
}
