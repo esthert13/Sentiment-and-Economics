{
 "cells": [
  {
   "cell_type": "code",
   "execution_count": 3,
   "metadata": {},
   "outputs": [
    {
     "name": "stderr",
     "output_type": "stream",
     "text": [
      "/home/ubuntu/.conda/envs/cse158a2/lib/python3.8/site-packages/tqdm/auto.py:21: TqdmWarning: IProgress not found. Please update jupyter and ipywidgets. See https://ipywidgets.readthedocs.io/en/stable/user_install.html\n",
      "  from .autonotebook import tqdm as notebook_tqdm\n"
     ]
    }
   ],
   "source": [
    "import pandas as pd\n",
    "import numpy as np\n",
    "import matplotlib.pyplot as plt\n",
    "from transformers import pipeline"
   ]
  },
  {
   "cell_type": "code",
   "execution_count": 2,
   "metadata": {},
   "outputs": [
    {
     "data": {
      "text/html": [
       "<div>\n",
       "<style scoped>\n",
       "    .dataframe tbody tr th:only-of-type {\n",
       "        vertical-align: middle;\n",
       "    }\n",
       "\n",
       "    .dataframe tbody tr th {\n",
       "        vertical-align: top;\n",
       "    }\n",
       "\n",
       "    .dataframe thead th {\n",
       "        text-align: right;\n",
       "    }\n",
       "</style>\n",
       "<table border=\"1\" class=\"dataframe\">\n",
       "  <thead>\n",
       "    <tr style=\"text-align: right;\">\n",
       "      <th></th>\n",
       "      <th>item</th>\n",
       "      <th>user</th>\n",
       "      <th>paid</th>\n",
       "      <th>time</th>\n",
       "      <th>stars</th>\n",
       "      <th>words</th>\n",
       "    </tr>\n",
       "  </thead>\n",
       "  <tbody>\n",
       "    <tr>\n",
       "      <th>0</th>\n",
       "      <td>Minolta_QMS_PagePro_1250E_Printers</td>\n",
       "      <td>fgb59h</td>\n",
       "      <td>260.0</td>\n",
       "      <td>1.027296e+09</td>\n",
       "      <td>4.0</td>\n",
       "      <td>i got this printer from minolta as a warranty ...</td>\n",
       "    </tr>\n",
       "    <tr>\n",
       "      <th>1</th>\n",
       "      <td>Sony_VAIO_PCG_K45_P4_538_3_2GHz_1MB_L2_533MHz_...</td>\n",
       "      <td>bucho_ky</td>\n",
       "      <td>1800.0</td>\n",
       "      <td>1.201306e+09</td>\n",
       "      <td>2.0</td>\n",
       "      <td>although i love my vaio especially the gorgeou...</td>\n",
       "    </tr>\n",
       "    <tr>\n",
       "      <th>2</th>\n",
       "      <td>Sony_VAIO_PCG_K45_P4_538_3_2GHz_1MB_L2_533MHz_...</td>\n",
       "      <td>redp944</td>\n",
       "      <td>1000.0</td>\n",
       "      <td>1.118016e+09</td>\n",
       "      <td>4.0</td>\n",
       "      <td>this is my first laptop and i bought it about ...</td>\n",
       "    </tr>\n",
       "    <tr>\n",
       "      <th>3</th>\n",
       "      <td>pr-Durabrand_CD-85_Personal_CD_Player</td>\n",
       "      <td>spongebag7</td>\n",
       "      <td>20.0</td>\n",
       "      <td>1.149293e+09</td>\n",
       "      <td>4.0</td>\n",
       "      <td>just recently my sony dej001 walkman died on m...</td>\n",
       "    </tr>\n",
       "    <tr>\n",
       "      <th>4</th>\n",
       "      <td>pr-Sony_KV_36FS12__Standard_Televisions</td>\n",
       "      <td>pyros7</td>\n",
       "      <td>1199.0</td>\n",
       "      <td>1.012262e+09</td>\n",
       "      <td>5.0</td>\n",
       "      <td>well when i graduated from college it didnt ta...</td>\n",
       "    </tr>\n",
       "  </tbody>\n",
       "</table>\n",
       "</div>"
      ],
      "text/plain": [
       "                                                item        user    paid  \\\n",
       "0                 Minolta_QMS_PagePro_1250E_Printers      fgb59h   260.0   \n",
       "1  Sony_VAIO_PCG_K45_P4_538_3_2GHz_1MB_L2_533MHz_...    bucho_ky  1800.0   \n",
       "2  Sony_VAIO_PCG_K45_P4_538_3_2GHz_1MB_L2_533MHz_...     redp944  1000.0   \n",
       "3              pr-Durabrand_CD-85_Personal_CD_Player  spongebag7    20.0   \n",
       "4            pr-Sony_KV_36FS12__Standard_Televisions      pyros7  1199.0   \n",
       "\n",
       "           time  stars                                              words  \n",
       "0  1.027296e+09    4.0  i got this printer from minolta as a warranty ...  \n",
       "1  1.201306e+09    2.0  although i love my vaio especially the gorgeou...  \n",
       "2  1.118016e+09    4.0  this is my first laptop and i bought it about ...  \n",
       "3  1.149293e+09    4.0  just recently my sony dej001 walkman died on m...  \n",
       "4  1.012262e+09    5.0  well when i graduated from college it didnt ta...  "
      ]
     },
     "execution_count": 2,
     "metadata": {},
     "output_type": "execute_result"
    }
   ],
   "source": [
    "data = pd.read_csv('epinion.csv')\n",
    "data.head()\n"
   ]
  },
  {
   "cell_type": "code",
   "execution_count": 6,
   "metadata": {},
   "outputs": [],
   "source": [
    "data['words'] = data['words'].fillna(\"\").astype(str)"
   ]
  },
  {
   "cell_type": "code",
   "execution_count": 7,
   "metadata": {},
   "outputs": [
    {
     "name": "stderr",
     "output_type": "stream",
     "text": [
      "/home/ubuntu/.conda/envs/cse158a2/lib/python3.8/site-packages/transformers/pipelines/base.py:1081: UserWarning: You seem to be using the pipelines sequentially on GPU. In order to maximize efficiency please use a dataset\n",
      "  warnings.warn(\n"
     ]
    },
    {
     "name": "stdout",
     "output_type": "stream",
     "text": [
      "                                               words sentiment\n",
      "0  i got this printer from minolta as a warranty ...   3 stars\n",
      "1  although i love my vaio especially the gorgeou...   3 stars\n",
      "2  this is my first laptop and i bought it about ...   5 stars\n",
      "3  just recently my sony dej001 walkman died on m...   2 stars\n",
      "4  well when i graduated from college it didnt ta...   3 stars\n"
     ]
    }
   ],
   "source": [
    "# Load a pre-trained Hugging Face sentiment analysis pipeline\n",
    "sentiment_model = pipeline(\"sentiment-analysis\", model=\"nlptown/bert-base-multilingual-uncased-sentiment\", device=6)\n",
    "\n",
    "# Define the classification function\n",
    "def classify_sentiment(text):\n",
    "    if not text.strip():  # Handle empty strings\n",
    "        return \"neutral\"  # Or any default label\n",
    "    result = sentiment_model(text[:512])  # Truncate to 512 tokens\n",
    "    return result[0]['label']  # Extract the sentiment label\n",
    "\n",
    "# Apply the function to classify all reviews\n",
    "data['sentiment'] = data['words'].apply(classify_sentiment)\n",
    "\n",
    "# Display the results\n",
    "print(data[['words', 'sentiment']].head())"
   ]
  },
  {
   "cell_type": "code",
   "execution_count": 8,
   "metadata": {},
   "outputs": [],
   "source": [
    "data.to_csv('output.csv', index=False)"
   ]
  },
  {
   "cell_type": "code",
   "execution_count": 9,
   "metadata": {},
   "outputs": [
    {
     "data": {
      "text/html": [
       "<div>\n",
       "<style scoped>\n",
       "    .dataframe tbody tr th:only-of-type {\n",
       "        vertical-align: middle;\n",
       "    }\n",
       "\n",
       "    .dataframe tbody tr th {\n",
       "        vertical-align: top;\n",
       "    }\n",
       "\n",
       "    .dataframe thead th {\n",
       "        text-align: right;\n",
       "    }\n",
       "</style>\n",
       "<table border=\"1\" class=\"dataframe\">\n",
       "  <thead>\n",
       "    <tr style=\"text-align: right;\">\n",
       "      <th></th>\n",
       "      <th>item</th>\n",
       "      <th>user</th>\n",
       "      <th>paid</th>\n",
       "      <th>time</th>\n",
       "      <th>stars</th>\n",
       "      <th>words</th>\n",
       "      <th>sentiment</th>\n",
       "    </tr>\n",
       "  </thead>\n",
       "  <tbody>\n",
       "    <tr>\n",
       "      <th>0</th>\n",
       "      <td>Minolta_QMS_PagePro_1250E_Printers</td>\n",
       "      <td>fgb59h</td>\n",
       "      <td>260.0</td>\n",
       "      <td>1.027296e+09</td>\n",
       "      <td>4.0</td>\n",
       "      <td>i got this printer from minolta as a warranty ...</td>\n",
       "      <td>3 stars</td>\n",
       "    </tr>\n",
       "    <tr>\n",
       "      <th>1</th>\n",
       "      <td>Sony_VAIO_PCG_K45_P4_538_3_2GHz_1MB_L2_533MHz_...</td>\n",
       "      <td>bucho_ky</td>\n",
       "      <td>1800.0</td>\n",
       "      <td>1.201306e+09</td>\n",
       "      <td>2.0</td>\n",
       "      <td>although i love my vaio especially the gorgeou...</td>\n",
       "      <td>3 stars</td>\n",
       "    </tr>\n",
       "    <tr>\n",
       "      <th>2</th>\n",
       "      <td>Sony_VAIO_PCG_K45_P4_538_3_2GHz_1MB_L2_533MHz_...</td>\n",
       "      <td>redp944</td>\n",
       "      <td>1000.0</td>\n",
       "      <td>1.118016e+09</td>\n",
       "      <td>4.0</td>\n",
       "      <td>this is my first laptop and i bought it about ...</td>\n",
       "      <td>5 stars</td>\n",
       "    </tr>\n",
       "    <tr>\n",
       "      <th>3</th>\n",
       "      <td>pr-Durabrand_CD-85_Personal_CD_Player</td>\n",
       "      <td>spongebag7</td>\n",
       "      <td>20.0</td>\n",
       "      <td>1.149293e+09</td>\n",
       "      <td>4.0</td>\n",
       "      <td>just recently my sony dej001 walkman died on m...</td>\n",
       "      <td>2 stars</td>\n",
       "    </tr>\n",
       "    <tr>\n",
       "      <th>4</th>\n",
       "      <td>pr-Sony_KV_36FS12__Standard_Televisions</td>\n",
       "      <td>pyros7</td>\n",
       "      <td>1199.0</td>\n",
       "      <td>1.012262e+09</td>\n",
       "      <td>5.0</td>\n",
       "      <td>well when i graduated from college it didnt ta...</td>\n",
       "      <td>3 stars</td>\n",
       "    </tr>\n",
       "  </tbody>\n",
       "</table>\n",
       "</div>"
      ],
      "text/plain": [
       "                                                item        user    paid  \\\n",
       "0                 Minolta_QMS_PagePro_1250E_Printers      fgb59h   260.0   \n",
       "1  Sony_VAIO_PCG_K45_P4_538_3_2GHz_1MB_L2_533MHz_...    bucho_ky  1800.0   \n",
       "2  Sony_VAIO_PCG_K45_P4_538_3_2GHz_1MB_L2_533MHz_...     redp944  1000.0   \n",
       "3              pr-Durabrand_CD-85_Personal_CD_Player  spongebag7    20.0   \n",
       "4            pr-Sony_KV_36FS12__Standard_Televisions      pyros7  1199.0   \n",
       "\n",
       "           time  stars                                              words  \\\n",
       "0  1.027296e+09    4.0  i got this printer from minolta as a warranty ...   \n",
       "1  1.201306e+09    2.0  although i love my vaio especially the gorgeou...   \n",
       "2  1.118016e+09    4.0  this is my first laptop and i bought it about ...   \n",
       "3  1.149293e+09    4.0  just recently my sony dej001 walkman died on m...   \n",
       "4  1.012262e+09    5.0  well when i graduated from college it didnt ta...   \n",
       "\n",
       "  sentiment  \n",
       "0   3 stars  \n",
       "1   3 stars  \n",
       "2   5 stars  \n",
       "3   2 stars  \n",
       "4   3 stars  "
      ]
     },
     "execution_count": 9,
     "metadata": {},
     "output_type": "execute_result"
    }
   ],
   "source": [
    "data.head()"
   ]
  },
  {
   "cell_type": "code",
   "execution_count": 10,
   "metadata": {},
   "outputs": [
    {
     "data": {
      "text/plain": [
       "<Axes: >"
      ]
     },
     "execution_count": 10,
     "metadata": {},
     "output_type": "execute_result"
    },
    {
     "data": {
      "image/png": "[encoded data removed]",
      "text/plain": [
       "<Figure size 640x480 with 1 Axes>"
      ]
     },
     "metadata": {},
     "output_type": "display_data"
    }
   ],
   "source": [
    "data['sentiment'].value_counts().plot(kind='bar')"
   ]
  },
  {
   "cell_type": "code",
   "execution_count": 13,
   "metadata": {},
   "outputs": [],
   "source": [
    "data['sentiment'] = data['sentiment'].apply(lambda x: int(x[0]) if x != 'neutral' else 2.5)"
   ]
  },
  {
   "cell_type": "code",
   "execution_count": 15,
   "metadata": {},
   "outputs": [],
   "source": [
    "data.to_csv('output.csv', index=False)"
   ]
  },
  {
   "cell_type": "code",
   "execution_count": 16,
   "metadata": {},
   "outputs": [],
   "source": [
    "data_check = pd.read_csv('output.csv')"
   ]
  },
  {
   "cell_type": "code",
   "execution_count": null,
   "metadata": {},
   "outputs": [],
   "source": []
  },
  {
   "cell_type": "code",
   "execution_count": 17,
   "metadata": {},
   "outputs": [
    {
     "data": {
      "text/html": [
       "<div>\n",
       "<style scoped>\n",
       "    .dataframe tbody tr th:only-of-type {\n",
       "        vertical-align: middle;\n",
       "    }\n",
       "\n",
       "    .dataframe tbody tr th {\n",
       "        vertical-align: top;\n",
       "    }\n",
       "\n",
       "    .dataframe thead th {\n",
       "        text-align: right;\n",
       "    }\n",
       "</style>\n",
       "<table border=\"1\" class=\"dataframe\">\n",
       "  <thead>\n",
       "    <tr style=\"text-align: right;\">\n",
       "      <th></th>\n",
       "      <th>item</th>\n",
       "      <th>user</th>\n",
       "      <th>paid</th>\n",
       "      <th>time</th>\n",
       "      <th>stars</th>\n",
       "      <th>words</th>\n",
       "      <th>sentiment</th>\n",
       "    </tr>\n",
       "  </thead>\n",
       "  <tbody>\n",
       "    <tr>\n",
       "      <th>0</th>\n",
       "      <td>Minolta_QMS_PagePro_1250E_Printers</td>\n",
       "      <td>fgb59h</td>\n",
       "      <td>260.0</td>\n",
       "      <td>1.027296e+09</td>\n",
       "      <td>4.0</td>\n",
       "      <td>i got this printer from minolta as a warranty ...</td>\n",
       "      <td>3.0</td>\n",
       "    </tr>\n",
       "    <tr>\n",
       "      <th>1</th>\n",
       "      <td>Sony_VAIO_PCG_K45_P4_538_3_2GHz_1MB_L2_533MHz_...</td>\n",
       "      <td>bucho_ky</td>\n",
       "      <td>1800.0</td>\n",
       "      <td>1.201306e+09</td>\n",
       "      <td>2.0</td>\n",
       "      <td>although i love my vaio especially the gorgeou...</td>\n",
       "      <td>3.0</td>\n",
       "    </tr>\n",
       "    <tr>\n",
       "      <th>2</th>\n",
       "      <td>Sony_VAIO_PCG_K45_P4_538_3_2GHz_1MB_L2_533MHz_...</td>\n",
       "      <td>redp944</td>\n",
       "      <td>1000.0</td>\n",
       "      <td>1.118016e+09</td>\n",
       "      <td>4.0</td>\n",
       "      <td>this is my first laptop and i bought it about ...</td>\n",
       "      <td>5.0</td>\n",
       "    </tr>\n",
       "    <tr>\n",
       "      <th>3</th>\n",
       "      <td>pr-Durabrand_CD-85_Personal_CD_Player</td>\n",
       "      <td>spongebag7</td>\n",
       "      <td>20.0</td>\n",
       "      <td>1.149293e+09</td>\n",
       "      <td>4.0</td>\n",
       "      <td>just recently my sony dej001 walkman died on m...</td>\n",
       "      <td>2.0</td>\n",
       "    </tr>\n",
       "    <tr>\n",
       "      <th>4</th>\n",
       "      <td>pr-Sony_KV_36FS12__Standard_Televisions</td>\n",
       "      <td>pyros7</td>\n",
       "      <td>1199.0</td>\n",
       "      <td>1.012262e+09</td>\n",
       "      <td>5.0</td>\n",
       "      <td>well when i graduated from college it didnt ta...</td>\n",
       "      <td>3.0</td>\n",
       "    </tr>\n",
       "  </tbody>\n",
       "</table>\n",
       "</div>"
      ],
      "text/plain": [
       "                                                item        user    paid  \\\n",
       "0                 Minolta_QMS_PagePro_1250E_Printers      fgb59h   260.0   \n",
       "1  Sony_VAIO_PCG_K45_P4_538_3_2GHz_1MB_L2_533MHz_...    bucho_ky  1800.0   \n",
       "2  Sony_VAIO_PCG_K45_P4_538_3_2GHz_1MB_L2_533MHz_...     redp944  1000.0   \n",
       "3              pr-Durabrand_CD-85_Personal_CD_Player  spongebag7    20.0   \n",
       "4            pr-Sony_KV_36FS12__Standard_Televisions      pyros7  1199.0   \n",
       "\n",
       "           time  stars                                              words  \\\n",
       "0  1.027296e+09    4.0  i got this printer from minolta as a warranty ...   \n",
       "1  1.201306e+09    2.0  although i love my vaio especially the gorgeou...   \n",
       "2  1.118016e+09    4.0  this is my first laptop and i bought it about ...   \n",
       "3  1.149293e+09    4.0  just recently my sony dej001 walkman died on m...   \n",
       "4  1.012262e+09    5.0  well when i graduated from college it didnt ta...   \n",
       "\n",
       "   sentiment  \n",
       "0        3.0  \n",
       "1        3.0  \n",
       "2        5.0  \n",
       "3        2.0  \n",
       "4        3.0  "
      ]
     },
     "execution_count": 17,
     "metadata": {},
     "output_type": "execute_result"
    }
   ],
   "source": [
    "data_check.head()"
   ]
  },
  {
   "cell_type": "code",
   "execution_count": null,
   "metadata": {},
   "outputs": [],
   "source": []
  }
 ],
 "metadata": {
  "kernelspec": {
   "display_name": "cse158a2",
   "language": "python",
   "name": "python3"
  },
  "language_info": {
   "codemirror_mode": {
    "name": "ipython",
    "version": 3
   },
   "file_extension": ".py",
   "mimetype": "text/x-python",
   "name": "python",
   "nbconvert_exporter": "python",
   "pygments_lexer": "ipython3",
   "version": "3.8.20"
  }
 },
 "nbformat": 4,
 "nbformat_minor": 2
}
